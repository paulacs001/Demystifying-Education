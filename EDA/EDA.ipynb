{
 "cells": [
  {
   "cell_type": "markdown",
   "metadata": {
    "papermill": {
     "duration": 0.04305,
     "end_time": "2021-04-08T02:17:55.268309",
     "exception": false,
     "start_time": "2021-04-08T02:17:55.225259",
     "status": "completed"
    },
    "tags": []
   },
   "source": [
    "# Student Performance EDA \n",
    "The goal of this script is to perform some EDA on the chosen dataset, available at https://www.kaggle.com/datasets/barkhaverma/student-performance. It has information about student achievement in secondary education of two Portuguese schools, and includes student grades, demographic, social and school related features.\n",
    "We will look for a better understanding of the data we are dealing with, identifying potential problems, and creating more significant features from the raw data.\n",
    "\n",
    "\n",
    "## Overview \n",
    "### 1) Understand the shape of the data (Histograms, box plots, etc.)\n",
    "\n",
    "### 2) Data Cleaning \n",
    "\n",
    "### 3) Data Exploration\n",
    "\n",
    "### 4) Feature Engineering \n"
   ]
  },
  {
   "cell_type": "code",
   "execution_count": 68,
   "metadata": {
    "_cell_guid": "b1076dfc-b9ad-4769-8c92-a6c4dae69d19",
    "_uuid": "8f2839f25d086af736a60e9eeb907d3b93b6e0e5",
    "execution": {
     "iopub.execute_input": "2021-04-08T02:17:55.359239Z",
     "iopub.status.busy": "2021-04-08T02:17:55.358492Z",
     "iopub.status.idle": "2021-04-08T02:17:56.257020Z",
     "shell.execute_reply": "2021-04-08T02:17:56.257858Z"
    },
    "papermill": {
     "duration": 0.948924,
     "end_time": "2021-04-08T02:17:56.258150",
     "exception": false,
     "start_time": "2021-04-08T02:17:55.309226",
     "status": "completed"
    },
    "tags": []
   },
   "outputs": [],
   "source": [
    "import numpy as np # linear algebra\n",
    "import pandas as pd # data processing, CSV file I/O (e.g. pd.read_csv)\n",
    "import seaborn as sns \n",
    "import matplotlib.pyplot as plt\n",
    "from sklearn.preprocessing import LabelEncoder "
   ]
  },
  {
   "cell_type": "markdown",
   "metadata": {
    "papermill": {
     "duration": 0.042884,
     "end_time": "2021-04-08T02:17:56.343687",
     "exception": false,
     "start_time": "2021-04-08T02:17:56.300803",
     "status": "completed"
    },
    "tags": []
   },
   "source": [
    "First we must load the data we will be using. We modifiy some of the features in the data, to make it more suitable for our project purpouses."
   ]
  },
  {
   "cell_type": "code",
   "execution_count": 69,
   "metadata": {
    "execution": {
     "iopub.execute_input": "2021-04-08T02:17:56.438644Z",
     "iopub.status.busy": "2021-04-08T02:17:56.437908Z",
     "iopub.status.idle": "2021-04-08T02:17:56.487427Z",
     "shell.execute_reply": "2021-04-08T02:17:56.488017Z"
    },
    "papermill": {
     "duration": 0.102195,
     "end_time": "2021-04-08T02:17:56.488202",
     "exception": false,
     "start_time": "2021-04-08T02:17:56.386007",
     "status": "completed"
    },
    "tags": []
   },
   "outputs": [],
   "source": [
    "data = pd.read_csv('../Data/student-mat.csv', sep = ';')\n",
    "Fjob_tmp = data.Fjob\n",
    "schoolsup_tmp = data.schoolsup\n"
   ]
  },
  {
   "cell_type": "markdown",
   "metadata": {},
   "source": [
    "**From the begining, we will remove G1 and G2. This is because for the motivation of this project, we want to be able to predict student achievements before the course starts, and therefore we will realistically not have this info available at the time of new predictions.\n",
    "Also, if we plot the correlation matrix with G3, this is very high, so the problem becomes trivial to solve:**"
   ]
  },
  {
   "cell_type": "code",
   "execution_count": 70,
   "metadata": {},
   "outputs": [
    {
     "data": {
      "image/png": "[encoded data removed]",
      "text/plain": [
       "<Figure size 432x288 with 2 Axes>"
      ]
     },
     "metadata": {
      "needs_background": "light"
     },
     "output_type": "display_data"
    }
   ],
   "source": [
    "midterm1 = data.pop('G1')\n",
    "midterm2 = data.pop('G2')\n",
    "Grades = pd.DataFrame({'Midterm1' : midterm1, 'Midterm2': midterm2, 'Final': data.G3})\n",
    "\n",
    "corr = Grades.corr()\n",
    "# corr.style.background_gradient(cmap='coolwarm')\n",
    "sns.heatmap(corr, annot=True, cmap = 'YlOrRd' )\n",
    "plt.show()"
   ]
  },
  {
   "cell_type": "markdown",
   "metadata": {},
   "source": [
    "**Also, we are going to perform classification, so we will modify our target variable for this.**\n",
    "\n",
    "    - Low level (0-69%)      [0  , 13]\n",
    "    - Medium level (70-89%)  [14 , 17]\n",
    "    - High level (90-100%)   [18 , 20]"
   ]
  },
  {
   "cell_type": "code",
   "execution_count": 71,
   "metadata": {},
   "outputs": [
    {
     "data": {
      "text/html": [
       "<div>\n",
       "<style scoped>\n",
       "    .dataframe tbody tr th:only-of-type {\n",
       "        vertical-align: middle;\n",
       "    }\n",
       "\n",
       "    .dataframe tbody tr th {\n",
       "        vertical-align: top;\n",
       "    }\n",
       "\n",
       "    .dataframe thead th {\n",
       "        text-align: right;\n",
       "    }\n",
       "</style>\n",
       "<table border=\"1\" class=\"dataframe\">\n",
       "  <thead>\n",
       "    <tr style=\"text-align: right;\">\n",
       "      <th></th>\n",
       "      <th>school</th>\n",
       "      <th>sex</th>\n",
       "      <th>age</th>\n",
       "      <th>address</th>\n",
       "      <th>famsize</th>\n",
       "      <th>Pstatus</th>\n",
       "      <th>Medu</th>\n",
       "      <th>Fedu</th>\n",
       "      <th>Mjob</th>\n",
       "      <th>Fjob</th>\n",
       "      <th>...</th>\n",
       "      <th>internet</th>\n",
       "      <th>romantic</th>\n",
       "      <th>famrel</th>\n",
       "      <th>freetime</th>\n",
       "      <th>goout</th>\n",
       "      <th>Dalc</th>\n",
       "      <th>Walc</th>\n",
       "      <th>health</th>\n",
       "      <th>absences</th>\n",
       "      <th>G3</th>\n",
       "    </tr>\n",
       "  </thead>\n",
       "  <tbody>\n",
       "    <tr>\n",
       "      <th>0</th>\n",
       "      <td>GP</td>\n",
       "      <td>F</td>\n",
       "      <td>18</td>\n",
       "      <td>U</td>\n",
       "      <td>GT3</td>\n",
       "      <td>A</td>\n",
       "      <td>4</td>\n",
       "      <td>4</td>\n",
       "      <td>at_home</td>\n",
       "      <td>teacher</td>\n",
       "      <td>...</td>\n",
       "      <td>no</td>\n",
       "      <td>no</td>\n",
       "      <td>4</td>\n",
       "      <td>3</td>\n",
       "      <td>4</td>\n",
       "      <td>1</td>\n",
       "      <td>1</td>\n",
       "      <td>3</td>\n",
       "      <td>6</td>\n",
       "      <td>L</td>\n",
       "    </tr>\n",
       "    <tr>\n",
       "      <th>1</th>\n",
       "      <td>GP</td>\n",
       "      <td>F</td>\n",
       "      <td>17</td>\n",
       "      <td>U</td>\n",
       "      <td>GT3</td>\n",
       "      <td>T</td>\n",
       "      <td>1</td>\n",
       "      <td>1</td>\n",
       "      <td>at_home</td>\n",
       "      <td>other</td>\n",
       "      <td>...</td>\n",
       "      <td>yes</td>\n",
       "      <td>no</td>\n",
       "      <td>5</td>\n",
       "      <td>3</td>\n",
       "      <td>3</td>\n",
       "      <td>1</td>\n",
       "      <td>1</td>\n",
       "      <td>3</td>\n",
       "      <td>4</td>\n",
       "      <td>L</td>\n",
       "    </tr>\n",
       "    <tr>\n",
       "      <th>2</th>\n",
       "      <td>GP</td>\n",
       "      <td>F</td>\n",
       "      <td>15</td>\n",
       "      <td>U</td>\n",
       "      <td>LE3</td>\n",
       "      <td>T</td>\n",
       "      <td>1</td>\n",
       "      <td>1</td>\n",
       "      <td>at_home</td>\n",
       "      <td>other</td>\n",
       "      <td>...</td>\n",
       "      <td>yes</td>\n",
       "      <td>no</td>\n",
       "      <td>4</td>\n",
       "      <td>3</td>\n",
       "      <td>2</td>\n",
       "      <td>2</td>\n",
       "      <td>3</td>\n",
       "      <td>3</td>\n",
       "      <td>10</td>\n",
       "      <td>L</td>\n",
       "    </tr>\n",
       "    <tr>\n",
       "      <th>3</th>\n",
       "      <td>GP</td>\n",
       "      <td>F</td>\n",
       "      <td>15</td>\n",
       "      <td>U</td>\n",
       "      <td>GT3</td>\n",
       "      <td>T</td>\n",
       "      <td>4</td>\n",
       "      <td>2</td>\n",
       "      <td>health</td>\n",
       "      <td>services</td>\n",
       "      <td>...</td>\n",
       "      <td>yes</td>\n",
       "      <td>yes</td>\n",
       "      <td>3</td>\n",
       "      <td>2</td>\n",
       "      <td>2</td>\n",
       "      <td>1</td>\n",
       "      <td>1</td>\n",
       "      <td>5</td>\n",
       "      <td>2</td>\n",
       "      <td>M</td>\n",
       "    </tr>\n",
       "    <tr>\n",
       "      <th>4</th>\n",
       "      <td>GP</td>\n",
       "      <td>F</td>\n",
       "      <td>16</td>\n",
       "      <td>U</td>\n",
       "      <td>GT3</td>\n",
       "      <td>T</td>\n",
       "      <td>3</td>\n",
       "      <td>3</td>\n",
       "      <td>other</td>\n",
       "      <td>other</td>\n",
       "      <td>...</td>\n",
       "      <td>no</td>\n",
       "      <td>no</td>\n",
       "      <td>4</td>\n",
       "      <td>3</td>\n",
       "      <td>2</td>\n",
       "      <td>1</td>\n",
       "      <td>2</td>\n",
       "      <td>5</td>\n",
       "      <td>4</td>\n",
       "      <td>L</td>\n",
       "    </tr>\n",
       "  </tbody>\n",
       "</table>\n",
       "<p>5 rows × 31 columns</p>\n",
       "</div>"
      ],
      "text/plain": [
       "  school sex  age address famsize Pstatus  Medu  Fedu     Mjob      Fjob  ...  \\\n",
       "0     GP   F   18       U     GT3       A     4     4  at_home   teacher  ...   \n",
       "1     GP   F   17       U     GT3       T     1     1  at_home     other  ...   \n",
       "2     GP   F   15       U     LE3       T     1     1  at_home     other  ...   \n",
       "3     GP   F   15       U     GT3       T     4     2   health  services  ...   \n",
       "4     GP   F   16       U     GT3       T     3     3    other     other  ...   \n",
       "\n",
       "  internet romantic  famrel  freetime  goout Dalc Walc health absences G3  \n",
       "0       no       no       4         3      4    1    1      3        6  L  \n",
       "1      yes       no       5         3      3    1    1      3        4  L  \n",
       "2      yes       no       4         3      2    2    3      3       10  L  \n",
       "3      yes      yes       3         2      2    1    1      5        2  M  \n",
       "4       no       no       4         3      2    1    2      5        4  L  \n",
       "\n",
       "[5 rows x 31 columns]"
      ]
     },
     "execution_count": 71,
     "metadata": {},
     "output_type": "execute_result"
    }
   ],
   "source": [
    "g3_dict = {0: 'L', 1: 'L', 2: 'L', 3: 'L', 4: 'L', 5: 'L', 6: 'L', 7: 'L', 8: 'L', 9: 'L', 10: 'L', 11: 'L', 12: 'L', 13: 'L',\n",
    "          14: 'M', 15: 'M', 16: 'M', 17: 'M',\n",
    "          18: 'H', 19: 'H', 20: 'H'}\n",
    "\n",
    "\n",
    "data.G3 = [g3_dict[i] for i in data.G3]\n",
    "data['G3'] = pd.Categorical(data['G3'], ordered=True, categories=['H','M','L'])\n",
    "data.head()"
   ]
  },
  {
   "cell_type": "markdown",
   "metadata": {
    "papermill": {
     "duration": 0.042429,
     "end_time": "2021-04-08T02:17:56.573132",
     "exception": false,
     "start_time": "2021-04-08T02:17:56.530703",
     "status": "completed"
    },
    "tags": []
   },
   "source": [
    "## Project Planning\n",
    "We outline the main steps to take in our analysis"
   ]
  },
  {
   "cell_type": "code",
   "execution_count": 72,
   "metadata": {
    "execution": {
     "iopub.execute_input": "2021-04-08T02:17:56.664518Z",
     "iopub.status.busy": "2021-04-08T02:17:56.663808Z",
     "iopub.status.idle": "2021-04-08T02:17:56.665909Z",
     "shell.execute_reply": "2021-04-08T02:17:56.666395Z"
    },
    "papermill": {
     "duration": 0.049737,
     "end_time": "2021-04-08T02:17:56.666547",
     "exception": false,
     "start_time": "2021-04-08T02:17:56.616810",
     "status": "completed"
    },
    "tags": []
   },
   "outputs": [],
   "source": [
    "# Understand nature of the data .info() .describe()\n",
    "# Histograms and boxplots \n",
    "# Value counts \n",
    "# Missing data \n",
    "# Correlation between the metrics \n",
    "# Explore interesting themes \n",
    "    # Does moer studytime relate to higher achievements? \n",
    "    # Does the school make any difference in student performance?\n",
    "    # Do students recieving support of any type perform better?\n",
    "    # Does alcohol consumption affect performance?\n",
    "    # Do students that go out more often have lower grades?\n",
    "# Feature engineering \n",
    "    # Average alcohol consumption across the week\n",
    "    # Merge types of support into 1 variable\n",
    "    # Create a measure of how much students scocialize\n",
    "    # Ratio of studytime to freetime\n",
    "    # Identifying repeaters"
   ]
  },
  {
   "cell_type": "markdown",
   "metadata": {
    "papermill": {
     "duration": 0.042645,
     "end_time": "2021-04-08T02:17:56.751951",
     "exception": false,
     "start_time": "2021-04-08T02:17:56.709306",
     "status": "completed"
    },
    "tags": []
   },
   "source": [
    "## Light Data Exploration "
   ]
  },
  {
   "cell_type": "code",
   "execution_count": 73,
   "metadata": {
    "execution": {
     "iopub.execute_input": "2021-04-08T02:17:56.841925Z",
     "iopub.status.busy": "2021-04-08T02:17:56.841258Z",
     "iopub.status.idle": "2021-04-08T02:17:56.854972Z",
     "shell.execute_reply": "2021-04-08T02:17:56.855757Z"
    },
    "papermill": {
     "duration": 0.061009,
     "end_time": "2021-04-08T02:17:56.855961",
     "exception": false,
     "start_time": "2021-04-08T02:17:56.794952",
     "status": "completed"
    },
    "tags": []
   },
   "outputs": [
    {
     "name": "stdout",
     "output_type": "stream",
     "text": [
      "<class 'pandas.core.frame.DataFrame'>\n",
      "RangeIndex: 395 entries, 0 to 394\n",
      "Data columns (total 31 columns):\n",
      " #   Column      Non-Null Count  Dtype   \n",
      "---  ------      --------------  -----   \n",
      " 0   school      395 non-null    object  \n",
      " 1   sex         395 non-null    object  \n",
      " 2   age         395 non-null    int64   \n",
      " 3   address     395 non-null    object  \n",
      " 4   famsize     395 non-null    object  \n",
      " 5   Pstatus     395 non-null    object  \n",
      " 6   Medu        395 non-null    int64   \n",
      " 7   Fedu        395 non-null    int64   \n",
      " 8   Mjob        395 non-null    object  \n",
      " 9   Fjob        395 non-null    object  \n",
      " 10  reason      395 non-null    object  \n",
      " 11  guardian    395 non-null    object  \n",
      " 12  traveltime  395 non-null    int64   \n",
      " 13  studytime   395 non-null    int64   \n",
      " 14  failures    395 non-null    int64   \n",
      " 15  schoolsup   395 non-null    object  \n",
      " 16  famsup      395 non-null    object  \n",
      " 17  paid        395 non-null    object  \n",
      " 18  activities  395 non-null    object  \n",
      " 19  nursery     395 non-null    object  \n",
      " 20  higher      395 non-null    object  \n",
      " 21  internet    395 non-null    object  \n",
      " 22  romantic    395 non-null    object  \n",
      " 23  famrel      395 non-null    int64   \n",
      " 24  freetime    395 non-null    int64   \n",
      " 25  goout       395 non-null    int64   \n",
      " 26  Dalc        395 non-null    int64   \n",
      " 27  Walc        395 non-null    int64   \n",
      " 28  health      395 non-null    int64   \n",
      " 29  absences    395 non-null    int64   \n",
      " 30  G3          395 non-null    category\n",
      "dtypes: category(1), int64(13), object(17)\n",
      "memory usage: 93.2+ KB\n"
     ]
    }
   ],
   "source": [
    "#quick look at our data types & null counts \n",
    "data.info()"
   ]
  },
  {
   "cell_type": "markdown",
   "metadata": {},
   "source": [
    "We see there are no missing values, so no data inputation will be needed. Also, some of the binned classes are incorrectly classified as being numeric, we will fix this."
   ]
  },
  {
   "cell_type": "code",
   "execution_count": 74,
   "metadata": {
    "execution": {
     "iopub.execute_input": "2021-04-08T02:17:57.093567Z",
     "iopub.status.busy": "2021-04-08T02:17:57.092811Z",
     "iopub.status.idle": "2021-04-08T02:17:57.113231Z",
     "shell.execute_reply": "2021-04-08T02:17:57.113736Z"
    },
    "papermill": {
     "duration": 0.076822,
     "end_time": "2021-04-08T02:17:57.113984",
     "exception": false,
     "start_time": "2021-04-08T02:17:57.037162",
     "status": "completed"
    },
    "tags": []
   },
   "outputs": [
    {
     "name": "stdout",
     "output_type": "stream",
     "text": [
      "['age', 'absences']\n"
     ]
    }
   ],
   "source": [
    "#quick way to separate numeric columns\n",
    "numeric = list(data.describe().columns)\n",
    "\n",
    "# The binned values are considered numeric which is an error, we will do it manually\n",
    "numeric = ['age','absences']\n",
    "print(numeric)"
   ]
  },
  {
   "cell_type": "code",
   "execution_count": 75,
   "metadata": {},
   "outputs": [
    {
     "name": "stdout",
     "output_type": "stream",
     "text": [
      "['school', 'sex', 'address', 'famsize', 'Pstatus', 'Medu', 'Fedu', 'Mjob', 'Fjob', 'reason', 'guardian', 'traveltime', 'studytime', 'failures', 'schoolsup', 'famsup', 'paid', 'activities', 'nursery', 'higher', 'internet', 'romantic', 'famrel', 'freetime', 'goout', 'Dalc', 'Walc', 'health', 'G3']\n"
     ]
    }
   ],
   "source": [
    "#retrieve categorical columns\n",
    "tot_cols = list(data.columns)\n",
    "categorical = [i for i in tot_cols if i not in numeric]\n",
    "print(categorical)"
   ]
  },
  {
   "cell_type": "code",
   "execution_count": 76,
   "metadata": {
    "execution": {
     "iopub.execute_input": "2021-04-08T02:17:57.216761Z",
     "iopub.status.busy": "2021-04-08T02:17:57.215991Z",
     "iopub.status.idle": "2021-04-08T02:17:57.223469Z",
     "shell.execute_reply": "2021-04-08T02:17:57.224020Z"
    },
    "papermill": {
     "duration": 0.063987,
     "end_time": "2021-04-08T02:17:57.224236",
     "exception": false,
     "start_time": "2021-04-08T02:17:57.160249",
     "status": "completed"
    },
    "tags": []
   },
   "outputs": [],
   "source": [
    "# look at numeric and categorical values separately \n",
    "data_num = data[numeric]\n",
    "data_cat = data[categorical].astype(\"category\")\n",
    "\n",
    "data = pd.concat([data_cat, data_num], axis = 1)"
   ]
  },
  {
   "cell_type": "code",
   "execution_count": 77,
   "metadata": {
    "execution": {
     "iopub.execute_input": "2021-04-08T02:17:56.950357Z",
     "iopub.status.busy": "2021-04-08T02:17:56.949534Z",
     "iopub.status.idle": "2021-04-08T02:17:56.992972Z",
     "shell.execute_reply": "2021-04-08T02:17:56.992301Z"
    },
    "papermill": {
     "duration": 0.093537,
     "end_time": "2021-04-08T02:17:56.993089",
     "exception": false,
     "start_time": "2021-04-08T02:17:56.899552",
     "status": "completed"
    },
    "tags": []
   },
   "outputs": [
    {
     "data": {
      "text/html": [
       "<div>\n",
       "<style scoped>\n",
       "    .dataframe tbody tr th:only-of-type {\n",
       "        vertical-align: middle;\n",
       "    }\n",
       "\n",
       "    .dataframe tbody tr th {\n",
       "        vertical-align: top;\n",
       "    }\n",
       "\n",
       "    .dataframe thead th {\n",
       "        text-align: right;\n",
       "    }\n",
       "</style>\n",
       "<table border=\"1\" class=\"dataframe\">\n",
       "  <thead>\n",
       "    <tr style=\"text-align: right;\">\n",
       "      <th></th>\n",
       "      <th>age</th>\n",
       "      <th>absences</th>\n",
       "    </tr>\n",
       "  </thead>\n",
       "  <tbody>\n",
       "    <tr>\n",
       "      <th>count</th>\n",
       "      <td>395.000000</td>\n",
       "      <td>395.000000</td>\n",
       "    </tr>\n",
       "    <tr>\n",
       "      <th>mean</th>\n",
       "      <td>16.696203</td>\n",
       "      <td>5.708861</td>\n",
       "    </tr>\n",
       "    <tr>\n",
       "      <th>std</th>\n",
       "      <td>1.276043</td>\n",
       "      <td>8.003096</td>\n",
       "    </tr>\n",
       "    <tr>\n",
       "      <th>min</th>\n",
       "      <td>15.000000</td>\n",
       "      <td>0.000000</td>\n",
       "    </tr>\n",
       "    <tr>\n",
       "      <th>25%</th>\n",
       "      <td>16.000000</td>\n",
       "      <td>0.000000</td>\n",
       "    </tr>\n",
       "    <tr>\n",
       "      <th>50%</th>\n",
       "      <td>17.000000</td>\n",
       "      <td>4.000000</td>\n",
       "    </tr>\n",
       "    <tr>\n",
       "      <th>75%</th>\n",
       "      <td>18.000000</td>\n",
       "      <td>8.000000</td>\n",
       "    </tr>\n",
       "    <tr>\n",
       "      <th>max</th>\n",
       "      <td>22.000000</td>\n",
       "      <td>75.000000</td>\n",
       "    </tr>\n",
       "  </tbody>\n",
       "</table>\n",
       "</div>"
      ],
      "text/plain": [
       "              age    absences\n",
       "count  395.000000  395.000000\n",
       "mean    16.696203    5.708861\n",
       "std      1.276043    8.003096\n",
       "min     15.000000    0.000000\n",
       "25%     16.000000    0.000000\n",
       "50%     17.000000    4.000000\n",
       "75%     18.000000    8.000000\n",
       "max     22.000000   75.000000"
      ]
     },
     "execution_count": 77,
     "metadata": {},
     "output_type": "execute_result"
    }
   ],
   "source": [
    "# Use the .describe() method to understand the central tendencies of the numeric data \n",
    "data.describe()"
   ]
  },
  {
   "cell_type": "markdown",
   "metadata": {},
   "source": [
    "### 1) For numeric data \n",
    "* Made histograms to understand distributions \n",
    "* Corrplot \n",
    "* Pivot table comparing G3 across numeric variables "
   ]
  },
  {
   "cell_type": "code",
   "execution_count": 78,
   "metadata": {
    "execution": {
     "iopub.execute_input": "2021-04-08T02:17:57.318963Z",
     "iopub.status.busy": "2021-04-08T02:17:57.317924Z",
     "iopub.status.idle": "2021-04-08T02:17:58.063608Z",
     "shell.execute_reply": "2021-04-08T02:17:58.062769Z"
    },
    "papermill": {
     "duration": 0.79348,
     "end_time": "2021-04-08T02:17:58.063750",
     "exception": false,
     "start_time": "2021-04-08T02:17:57.270270",
     "status": "completed"
    },
    "tags": []
   },
   "outputs": [
    {
     "data": {
      "image/png": "[encoded data removed]",
      "text/plain": [
       "<Figure size 432x288 with 1 Axes>"
      ]
     },
     "metadata": {
      "needs_background": "light"
     },
     "output_type": "display_data"
    },
    {
     "data": {
      "image/png": "[encoded data removed]",
      "text/plain": [
       "<Figure size 432x288 with 1 Axes>"
      ]
     },
     "metadata": {
      "needs_background": "light"
     },
     "output_type": "display_data"
    }
   ],
   "source": [
    "#distributions for all numeric variables \n",
    "for i in data_num.columns:\n",
    "    plt.hist(data_num[i])\n",
    "    plt.title(i)\n",
    "    plt.show()"
   ]
  },
  {
   "cell_type": "markdown",
   "metadata": {
    "papermill": {
     "duration": 0.047574,
     "end_time": "2021-04-08T02:17:58.159574",
     "exception": false,
     "start_time": "2021-04-08T02:17:58.112000",
     "status": "completed"
    },
    "tags": []
   },
   "source": [
    "Perhaps we should take the non-normal distributions and consider normalizing them?"
   ]
  },
  {
   "cell_type": "markdown",
   "metadata": {
    "papermill": {
     "duration": 0.047,
     "end_time": "2021-04-08T02:17:58.254960",
     "exception": false,
     "start_time": "2021-04-08T02:17:58.207960",
     "status": "completed"
    },
    "tags": []
   },
   "source": [
    "\n"
   ]
  },
  {
   "cell_type": "code",
   "execution_count": 79,
   "metadata": {
    "execution": {
     "iopub.execute_input": "2021-04-08T02:17:58.363187Z",
     "iopub.status.busy": "2021-04-08T02:17:58.361005Z",
     "iopub.status.idle": "2021-04-08T02:17:58.608344Z",
     "shell.execute_reply": "2021-04-08T02:17:58.607680Z"
    },
    "papermill": {
     "duration": 0.306386,
     "end_time": "2021-04-08T02:17:58.608484",
     "exception": false,
     "start_time": "2021-04-08T02:17:58.302098",
     "status": "completed"
    },
    "tags": []
   },
   "outputs": [
    {
     "name": "stdout",
     "output_type": "stream",
     "text": [
      "              age  absences\n",
      "age       1.00000   0.17523\n",
      "absences  0.17523   1.00000\n"
     ]
    },
    {
     "data": {
      "text/html": [
       "<style type=\"text/css\">\n",
       "#T_736d4_row0_col0, #T_736d4_row1_col1 {\n",
       "  background-color: #800026;\n",
       "  color: #f1f1f1;\n",
       "}\n",
       "#T_736d4_row0_col1, #T_736d4_row1_col0 {\n",
       "  background-color: #ffffcc;\n",
       "  color: #000000;\n",
       "}\n",
       "</style>\n",
       "<table id=\"T_736d4_\">\n",
       "  <thead>\n",
       "    <tr>\n",
       "      <th class=\"blank level0\" >&nbsp;</th>\n",
       "      <th class=\"col_heading level0 col0\" >age</th>\n",
       "      <th class=\"col_heading level0 col1\" >absences</th>\n",
       "    </tr>\n",
       "  </thead>\n",
       "  <tbody>\n",
       "    <tr>\n",
       "      <th id=\"T_736d4_level0_row0\" class=\"row_heading level0 row0\" >age</th>\n",
       "      <td id=\"T_736d4_row0_col0\" class=\"data row0 col0\" >1.000000</td>\n",
       "      <td id=\"T_736d4_row0_col1\" class=\"data row0 col1\" >0.175230</td>\n",
       "    </tr>\n",
       "    <tr>\n",
       "      <th id=\"T_736d4_level0_row1\" class=\"row_heading level0 row1\" >absences</th>\n",
       "      <td id=\"T_736d4_row1_col0\" class=\"data row1 col0\" >0.175230</td>\n",
       "      <td id=\"T_736d4_row1_col1\" class=\"data row1 col1\" >1.000000</td>\n",
       "    </tr>\n",
       "  </tbody>\n",
       "</table>\n"
      ],
      "text/plain": [
       "<pandas.io.formats.style.Styler at 0x15e95ead688>"
      ]
     },
     "execution_count": 79,
     "metadata": {},
     "output_type": "execute_result"
    }
   ],
   "source": [
    "corr = data_num.corr()\n",
    "print(corr)\n",
    "corr.style.background_gradient(cmap='YlOrRd')"
   ]
  },
  {
   "cell_type": "markdown",
   "metadata": {},
   "source": [
    "* **It looks like age and absences are positively related. That is, older students are more likely to miss more classes. Could this be because they are repeaters?**"
   ]
  },
  {
   "cell_type": "code",
   "execution_count": 80,
   "metadata": {
    "execution": {
     "iopub.execute_input": "2021-04-08T02:17:58.735610Z",
     "iopub.status.busy": "2021-04-08T02:17:58.734729Z",
     "iopub.status.idle": "2021-04-08T02:17:58.740895Z",
     "shell.execute_reply": "2021-04-08T02:17:58.740303Z"
    },
    "papermill": {
     "duration": 0.083636,
     "end_time": "2021-04-08T02:17:58.741016",
     "exception": false,
     "start_time": "2021-04-08T02:17:58.657380",
     "status": "completed"
    },
    "tags": []
   },
   "outputs": [
    {
     "data": {
      "text/html": [
       "<div>\n",
       "<style scoped>\n",
       "    .dataframe tbody tr th:only-of-type {\n",
       "        vertical-align: middle;\n",
       "    }\n",
       "\n",
       "    .dataframe tbody tr th {\n",
       "        vertical-align: top;\n",
       "    }\n",
       "\n",
       "    .dataframe thead th {\n",
       "        text-align: right;\n",
       "    }\n",
       "</style>\n",
       "<table border=\"1\" class=\"dataframe\">\n",
       "  <thead>\n",
       "    <tr style=\"text-align: right;\">\n",
       "      <th></th>\n",
       "      <th>absences</th>\n",
       "      <th>age</th>\n",
       "    </tr>\n",
       "    <tr>\n",
       "      <th>G3</th>\n",
       "      <th></th>\n",
       "      <th></th>\n",
       "    </tr>\n",
       "  </thead>\n",
       "  <tbody>\n",
       "    <tr>\n",
       "      <th>H</th>\n",
       "      <td>4</td>\n",
       "      <td>16.333333</td>\n",
       "    </tr>\n",
       "    <tr>\n",
       "      <th>M</th>\n",
       "      <td>2</td>\n",
       "      <td>16.378049</td>\n",
       "    </tr>\n",
       "    <tr>\n",
       "      <th>L</th>\n",
       "      <td>4</td>\n",
       "      <td>16.806780</td>\n",
       "    </tr>\n",
       "  </tbody>\n",
       "</table>\n",
       "</div>"
      ],
      "text/plain": [
       "    absences        age\n",
       "G3                     \n",
       "H          4  16.333333\n",
       "M          2  16.378049\n",
       "L          4  16.806780"
      ]
     },
     "execution_count": 80,
     "metadata": {},
     "output_type": "execute_result"
    }
   ],
   "source": [
    "# compare G3 across age and absences \n",
    "pd.pivot_table(data, index = 'G3', values = ['age','absences'], aggfunc = {'age': 'mean', 'absences' : 'median'},sort = True)"
   ]
  },
  {
   "cell_type": "markdown",
   "metadata": {},
   "source": [
    "* **Looks like there is an age difference between the groups, where L students are older**\n",
    "\n",
    "* **Interestingly, those with less absences are the middle achieving ones** \n",
    "\n",
    "* **From the histograms we see there are outliers in absences, so we derive the median rather than the mean for better interpretability**"
   ]
  },
  {
   "cell_type": "markdown",
   "metadata": {},
   "source": [
    "### 2) For Categorical Data \n",
    "* Made bar charts to understand balance of classes \n",
    "* Made pivot tables to understand relationship with survival"
   ]
  },
  {
   "cell_type": "code",
   "execution_count": 81,
   "metadata": {
    "execution": {
     "iopub.execute_input": "2021-04-08T02:17:58.847880Z",
     "iopub.status.busy": "2021-04-08T02:17:58.846959Z",
     "iopub.status.idle": "2021-04-08T02:18:09.032990Z",
     "shell.execute_reply": "2021-04-08T02:18:09.033502Z"
    },
    "papermill": {
     "duration": 10.243599,
     "end_time": "2021-04-08T02:18:09.033668",
     "exception": false,
     "start_time": "2021-04-08T02:17:58.790069",
     "status": "completed"
    },
    "tags": []
   },
   "outputs": [
    {
     "data": {
      "image/png": "[encoded data removed]",
      "text/plain": [
       "<Figure size 432x288 with 1 Axes>"
      ]
     },
     "metadata": {
      "needs_background": "light"
     },
     "output_type": "display_data"
    },
    {
     "data": {
      "image/png": "[encoded data removed]",
      "text/plain": [
       "<Figure size 432x288 with 1 Axes>"
      ]
     },
     "metadata": {
      "needs_background": "light"
     },
     "output_type": "display_data"
    },
    {
     "data": {
      "image/png": "[encoded data removed]",
      "text/plain": [
       "<Figure size 432x288 with 1 Axes>"
      ]
     },
     "metadata": {
      "needs_background": "light"
     },
     "output_type": "display_data"
    },
    {
     "data": {
      "image/png": "[encoded data removed]",
      "text/plain": [
       "<Figure size 432x288 with 1 Axes>"
      ]
     },
     "metadata": {
      "needs_background": "light"
     },
     "output_type": "display_data"
    },
    {
     "data": {
      "image/png": "[encoded data removed]",
      "text/plain": [
       "<Figure size 432x288 with 1 Axes>"
      ]
     },
     "metadata": {
      "needs_background": "light"
     },
     "output_type": "display_data"
    },
    {
     "data": {
      "image/png": "[encoded data removed]",
      "text/plain": [
       "<Figure size 432x288 with 1 Axes>"
      ]
     },
     "metadata": {
      "needs_background": "light"
     },
     "output_type": "display_data"
    },
    {
     "data": {
      "image/png": "[encoded data removed]",
      "text/plain": [
       "<Figure size 432x288 with 1 Axes>"
      ]
     },
     "metadata": {
      "needs_background": "light"
     },
     "output_type": "display_data"
    },
    {
     "data": {
      "image/png": "[encoded data removed]",
      "text/plain": [
       "<Figure size 432x288 with 1 Axes>"
      ]
     },
     "metadata": {
      "needs_background": "light"
     },
     "output_type": "display_data"
    },
    {
     "data": {
      "image/png": "[encoded data removed]",
      "text/plain": [
       "<Figure size 432x288 with 1 Axes>"
      ]
     },
     "metadata": {
      "needs_background": "light"
     },
     "output_type": "display_data"
    },
    {
     "data": {
      "image/png": "[encoded data removed]",
      "text/plain": [
       "<Figure size 432x288 with 1 Axes>"
      ]
     },
     "metadata": {
      "needs_background": "light"
     },
     "output_type": "display_data"
    },
    {
     "data": {
      "image/png": "[encoded data removed]",
      "text/plain": [
       "<Figure size 432x288 with 1 Axes>"
      ]
     },
     "metadata": {
      "needs_background": "light"
     },
     "output_type": "display_data"
    },
    {
     "data": {
      "image/png": "[encoded data removed]",
      "text/plain": [
       "<Figure size 432x288 with 1 Axes>"
      ]
     },
     "metadata": {
      "needs_background": "light"
     },
     "output_type": "display_data"
    },
    {
     "data": {
      "image/png": "[encoded data removed]",
      "text/plain": [
       "<Figure size 432x288 with 1 Axes>"
      ]
     },
     "metadata": {
      "needs_background": "light"
     },
     "output_type": "display_data"
    },
    {
     "data": {
      "image/png": "[encoded data removed]",
      "text/plain": [
       "<Figure size 432x288 with 1 Axes>"
      ]
     },
     "metadata": {
      "needs_background": "light"
     },
     "output_type": "display_data"
    },
    {
     "data": {
      "image/png": "[encoded data removed]",
      "text/plain": [
       "<Figure size 432x288 with 1 Axes>"
      ]
     },
     "metadata": {
      "needs_background": "light"
     },
     "output_type": "display_data"
    },
    {
     "data": {
      "image/png": "[encoded data removed]",
      "text/plain": [
       "<Figure size 432x288 with 1 Axes>"
      ]
     },
     "metadata": {
      "needs_background": "light"
     },
     "output_type": "display_data"
    },
    {
     "data": {
      "image/png": "[encoded data removed]",
      "text/plain": [
       "<Figure size 432x288 with 1 Axes>"
      ]
     },
     "metadata": {
      "needs_background": "light"
     },
     "output_type": "display_data"
    },
    {
     "data": {
      "image/png": "[encoded data removed]",
      "text/plain": [
       "<Figure size 432x288 with 1 Axes>"
      ]
     },
     "metadata": {
      "needs_background": "light"
     },
     "output_type": "display_data"
    },
    {
     "data": {
      "image/png": "[encoded data removed]",
      "text/plain": [
       "<Figure size 432x288 with 1 Axes>"
      ]
     },
     "metadata": {
      "needs_background": "light"
     },
     "output_type": "display_data"
    },
    {
     "data": {
      "image/png": "[encoded data removed]",
      "text/plain": [
       "<Figure size 432x288 with 1 Axes>"
      ]
     },
     "metadata": {
      "needs_background": "light"
     },
     "output_type": "display_data"
    },
    {
     "data": {
      "image/png": "[encoded data removed]",
      "text/plain": [
       "<Figure size 432x288 with 1 Axes>"
      ]
     },
     "metadata": {
      "needs_background": "light"
     },
     "output_type": "display_data"
    },
    {
     "data": {
      "image/png": "[encoded data removed]",
      "text/plain": [
       "<Figure size 432x288 with 1 Axes>"
      ]
     },
     "metadata": {
      "needs_background": "light"
     },
     "output_type": "display_data"
    },
    {
     "data": {
      "image/png": "[encoded data removed]",
      "text/plain": [
       "<Figure size 432x288 with 1 Axes>"
      ]
     },
     "metadata": {
      "needs_background": "light"
     },
     "output_type": "display_data"
    },
    {
     "data": {
      "image/png": "[encoded data removed]",
      "text/plain": [
       "<Figure size 432x288 with 1 Axes>"
      ]
     },
     "metadata": {
      "needs_background": "light"
     },
     "output_type": "display_data"
    },
    {
     "data": {
      "image/png": "[encoded data removed]",
      "text/plain": [
       "<Figure size 432x288 with 1 Axes>"
      ]
     },
     "metadata": {
      "needs_background": "light"
     },
     "output_type": "display_data"
    },
    {
     "data": {
      "image/png": "[encoded data removed]",
      "text/plain": [
       "<Figure size 432x288 with 1 Axes>"
      ]
     },
     "metadata": {
      "needs_background": "light"
     },
     "output_type": "display_data"
    },
    {
     "data": {
      "image/png": "[encoded data removed]",
      "text/plain": [
       "<Figure size 432x288 with 1 Axes>"
      ]
     },
     "metadata": {
      "needs_background": "light"
     },
     "output_type": "display_data"
    },
    {
     "data": {
      "image/png": "[encoded data removed]",
      "text/plain": [
       "<Figure size 432x288 with 1 Axes>"
      ]
     },
     "metadata": {
      "needs_background": "light"
     },
     "output_type": "display_data"
    },
    {
     "data": {
      "image/png": "[encoded data removed]",
      "text/plain": [
       "<Figure size 432x288 with 1 Axes>"
      ]
     },
     "metadata": {
      "needs_background": "light"
     },
     "output_type": "display_data"
    }
   ],
   "source": [
    "for i in data_cat.columns:\n",
    "    sns.barplot(x = data_cat[i].value_counts().index, y = data_cat[i].value_counts()).set_title(i)\n",
    "    plt.show()    "
   ]
  },
  {
   "cell_type": "markdown",
   "metadata": {
    "papermill": {
     "duration": 0.053573,
     "end_time": "2021-04-08T02:18:09.141535",
     "exception": false,
     "start_time": "2021-04-08T02:18:09.087962",
     "status": "completed"
    },
    "tags": []
   },
   "source": [
    "A lot of classes have great unbalances between classes. We may want to explore it later on (feature eng?)"
   ]
  },
  {
   "cell_type": "code",
   "execution_count": 82,
   "metadata": {
    "execution": {
     "iopub.execute_input": "2021-04-08T02:18:09.252051Z",
     "iopub.status.busy": "2021-04-08T02:18:09.251347Z",
     "iopub.status.idle": "2021-04-08T02:18:09.304652Z",
     "shell.execute_reply": "2021-04-08T02:18:09.303892Z"
    },
    "papermill": {
     "duration": 0.109849,
     "end_time": "2021-04-08T02:18:09.304793",
     "exception": false,
     "start_time": "2021-04-08T02:18:09.194944",
     "status": "completed"
    },
    "tags": []
   },
   "outputs": [
    {
     "name": "stdout",
     "output_type": "stream",
     "text": [
      "school   GP   MS\n",
      "G3              \n",
      "H        5%   2%\n",
      "M       22%  13%\n",
      "L       73%  85%\n",
      "\n",
      "sex    F    M\n",
      "G3           \n",
      "H     3%   6%\n",
      "M    19%  23%\n",
      "L    78%  71%\n",
      "\n",
      "address    R    U\n",
      "G3               \n",
      "H         3%   5%\n",
      "M        11%  23%\n",
      "L        85%  72%\n",
      "\n",
      "famsize  GT3  LE3\n",
      "G3               \n",
      "H         4%   5%\n",
      "M        21%  20%\n",
      "L        75%  75%\n",
      "\n",
      "Pstatus    A    T\n",
      "G3               \n",
      "H        10%   4%\n",
      "M        15%  21%\n",
      "L        76%  75%\n",
      "\n",
      "Medu    0    1    2    3    4\n",
      "G3                           \n",
      "H      0%   0%   2%   6%   8%\n",
      "M     67%   7%  16%  17%  33%\n",
      "L     33%  93%  83%  77%  60%\n",
      "\n",
      "Fedu    0    1    2    3    4\n",
      "G3                           \n",
      "H      0%   2%   4%   5%   6%\n",
      "M     50%  12%  21%  18%  30%\n",
      "L     50%  85%  75%  77%  64%\n",
      "\n",
      "Mjob at_home health other services teacher\n",
      "G3                                        \n",
      "H         2%     6%    1%       9%      7%\n",
      "M        14%    38%   18%      21%     24%\n",
      "L        85%    56%   81%      70%     69%\n",
      "\n",
      "Fjob at_home health other services teacher\n",
      "G3                                        \n",
      "H         5%     6%    5%       2%     14%\n",
      "M        20%    28%   18%      22%     38%\n",
      "L        75%    67%   78%      77%     48%\n",
      "\n",
      "reason course home other reputation\n",
      "G3                                 \n",
      "H          5%   5%    3%         5%\n",
      "M         16%  19%   19%        30%\n",
      "L         79%  76%   78%        66%\n",
      "\n",
      "guardian father mother other\n",
      "G3                          \n",
      "H            4%     5%    3%\n",
      "M           22%    22%    6%\n",
      "L           73%    73%   91%\n",
      "\n",
      "traveltime    1    2    3     4\n",
      "G3                             \n",
      "H            5%   3%   4%    0%\n",
      "M           24%  18%   9%    0%\n",
      "L           71%  79%  87%  100%\n",
      "\n",
      "studytime    1    2    3    4\n",
      "G3                           \n",
      "H           7%   2%   6%  11%\n",
      "M          17%  18%  34%  26%\n",
      "L          76%  80%  60%  63%\n",
      "\n",
      "failures    0    1    2     3\n",
      "G3                           \n",
      "H          5%   2%   0%    0%\n",
      "M         26%   2%   6%    0%\n",
      "L         69%  96%  94%  100%\n",
      "\n",
      "schoolsup   no  yes\n",
      "G3                 \n",
      "H           5%   0%\n",
      "M          23%   6%\n",
      "L          72%  94%\n",
      "\n",
      "famsup   no  yes\n",
      "G3              \n",
      "H        5%   4%\n",
      "M       21%  21%\n",
      "L       74%  75%\n",
      "\n",
      "paid   no  yes\n",
      "G3            \n",
      "H      5%   4%\n",
      "M     21%  20%\n",
      "L     74%  75%\n",
      "\n",
      "activities   no  yes\n",
      "G3                  \n",
      "H            4%   5%\n",
      "M           19%  23%\n",
      "L           77%  72%\n",
      "\n",
      "nursery   no  yes\n",
      "G3               \n",
      "H         1%   5%\n",
      "M        21%  21%\n",
      "L        78%  74%\n",
      "\n",
      "higher    no  yes\n",
      "G3               \n",
      "H         0%   5%\n",
      "M         0%  22%\n",
      "L       100%  73%\n",
      "\n",
      "internet   no  yes\n",
      "G3                \n",
      "H          3%   5%\n",
      "M         12%  22%\n",
      "L         85%  73%\n",
      "\n",
      "romantic   no  yes\n",
      "G3                \n",
      "H          6%   1%\n",
      "M         22%  19%\n",
      "L         72%  80%\n",
      "\n",
      "famrel    1    2    3    4    5\n",
      "G3                             \n",
      "H        0%   0%   6%   4%   7%\n",
      "M       12%  28%  16%  20%  25%\n",
      "L       88%  72%  78%  76%  69%\n",
      "\n",
      "freetime    1    2    3    4    5\n",
      "G3                               \n",
      "H         11%   6%   3%   3%  12%\n",
      "M          5%  25%  20%  23%  18%\n",
      "L         84%  69%  77%  75%  70%\n",
      "\n",
      "goout    1    2    3    4    5\n",
      "G3                            \n",
      "H       0%   6%   5%   3%   4%\n",
      "M      22%  23%  25%  16%  13%\n",
      "L      78%  71%  70%  80%  83%\n",
      "\n",
      "Dalc    1    2    3     4     5\n",
      "G3                             \n",
      "H      6%   3%   0%    0%    0%\n",
      "M     24%  15%  15%    0%    0%\n",
      "L     70%  83%  85%  100%  100%\n",
      "\n",
      "Walc    1    2    3    4    5\n",
      "G3                           \n",
      "H      8%   2%   4%   0%   4%\n",
      "M     25%  25%  20%  10%  11%\n",
      "L     68%  73%  76%  90%  86%\n",
      "\n",
      "health    1    2    3    4    5\n",
      "G3                             \n",
      "H        9%   9%   2%   6%   3%\n",
      "M       32%  22%  15%  18%  21%\n",
      "L       60%  69%  82%  76%  76%\n",
      "\n",
      "G3     H     M     L\n",
      "G3                  \n",
      "H   100%    0%    0%\n",
      "M     0%  100%    0%\n",
      "L     0%    0%  100%\n",
      "\n"
     ]
    }
   ],
   "source": [
    "# Comparing G3 and each of these categorical variables \n",
    "for i in data_cat.columns:\n",
    "    print(pd.crosstab(data.G3, data[i], values = 'age' ,aggfunc ='count', normalize='columns').applymap(lambda x: \"{0:.0f}%\".format(100*x)))\n",
    "    print()"
   ]
  },
  {
   "cell_type": "markdown",
   "metadata": {},
   "source": [
    "* **failures, schoolsup, higher, famrel, Medu, Fjob (teacher), traveltime, Dalc, failures**\n",
    "\n",
    "* **famsize, famsup, paid, activities, nursery is very equal distrib, we can ignore**\n",
    "\n",
    "* **guardian into parent / other**"
   ]
  },
  {
   "cell_type": "markdown",
   "metadata": {
    "papermill": {
     "duration": 0.053703,
     "end_time": "2021-04-08T02:18:09.412768",
     "exception": false,
     "start_time": "2021-04-08T02:18:09.359065",
     "status": "completed"
    },
    "tags": []
   },
   "source": [
    "## Feature Engineering \n",
    "### 1) Alcohol - We can merge Walc and Dalc by computing their average\n"
   ]
  },
  {
   "cell_type": "markdown",
   "metadata": {},
   "source": [
    "We can see higher alcohol consumptions lead to worse performance"
   ]
  },
  {
   "cell_type": "code",
   "execution_count": 83,
   "metadata": {
    "execution": {
     "iopub.execute_input": "2021-04-08T02:18:09.543581Z",
     "iopub.status.busy": "2021-04-08T02:18:09.542454Z",
     "iopub.status.idle": "2021-04-08T02:18:09.552393Z",
     "shell.execute_reply": "2021-04-08T02:18:09.553255Z"
    },
    "papermill": {
     "duration": 0.086488,
     "end_time": "2021-04-08T02:18:09.553477",
     "exception": false,
     "start_time": "2021-04-08T02:18:09.466989",
     "status": "completed"
    },
    "tags": []
   },
   "outputs": [],
   "source": [
    "########## Average Alcohol ###########\n",
    "Walc = data.pop('Walc').astype(int)\n",
    "Dalc = data.pop('Dalc').astype(int)\n",
    "\n",
    "Avg_alcohol = pd.DataFrame({'Alcohol': (Walc + Dalc) / 2})\n",
    "data = pd.concat( [data, Avg_alcohol], axis = 1)"
   ]
  },
  {
   "cell_type": "code",
   "execution_count": 84,
   "metadata": {},
   "outputs": [
    {
     "name": "stdout",
     "output_type": "stream",
     "text": [
      "Alcohol  1.0  1.5  2.0  2.5  3.0  3.5  4.0   4.5   5.0\n",
      "G3                                                    \n",
      "H         8%   3%   3%   2%   0%   6%   0%    0%    0%\n",
      "M        25%  26%  25%  13%   9%  12%  22%    0%    0%\n",
      "L        67%  71%  72%  84%  91%  82%  78%  100%  100%\n"
     ]
    }
   ],
   "source": [
    "print(pd.crosstab(data.G3, data.Alcohol, values = 'age' ,aggfunc ='count', normalize='columns').applymap(lambda x: \"{0:.0f}%\".format(100*x)))"
   ]
  },
  {
   "cell_type": "markdown",
   "metadata": {},
   "source": [
    "### 2) Support - Merge the support types into a single feature (None, fam, school, paid, Combined)"
   ]
  },
  {
   "cell_type": "markdown",
   "metadata": {},
   "source": [
    "School support negatively affects students. The other types of support have no significant differences. It may be more informative to merge into school support vs other types of support"
   ]
  },
  {
   "cell_type": "markdown",
   "metadata": {},
   "source": [
    "### 2.1] Merge into 1 feature"
   ]
  },
  {
   "cell_type": "code",
   "execution_count": 85,
   "metadata": {
    "execution": {
     "iopub.execute_input": "2021-04-08T02:18:09.861466Z",
     "iopub.status.busy": "2021-04-08T02:18:09.860498Z",
     "iopub.status.idle": "2021-04-08T02:18:09.864614Z",
     "shell.execute_reply": "2021-04-08T02:18:09.863719Z"
    },
    "papermill": {
     "duration": 0.083654,
     "end_time": "2021-04-08T02:18:09.864790",
     "exception": false,
     "start_time": "2021-04-08T02:18:09.781136",
     "status": "completed"
    },
    "tags": []
   },
   "outputs": [],
   "source": [
    "######## Merge Support types --> # Support ###########\n",
    "# For None -> 0 ; # For family -> 1 ; # For school -> 2 ; # For paid -> 3 ; # For +1 type of support ->4\n",
    "le = LabelEncoder()\n",
    "\n",
    "support = []\n",
    "schoolsup = le.fit_transform(data.pop('schoolsup'))\n",
    "famsup = le.fit_transform(data.pop('famsup'))\n",
    "paid = le.fit_transform(data.pop('paid'))\n",
    "\n",
    "for i in range(len(data)):\n",
    "    num_support = schoolsup[i] + famsup[i] + paid[i]\n",
    "    if num_support > 1:\n",
    "        support.append('4')  \n",
    "    elif num_support == 0:\n",
    "        support.append('0')   \n",
    "    else:\n",
    "        if schoolsup[i] == 1:\n",
    "            support.append('2')    \n",
    "        elif famsup[i] == 1:\n",
    "            support.append('1')   \n",
    "        else:\n",
    "            support.append('3') \n",
    "            \n",
    "support = pd.DataFrame({'Support': support}).astype('category')\n",
    "data = pd.concat([data, support], axis = 1)"
   ]
  },
  {
   "cell_type": "code",
   "execution_count": 86,
   "metadata": {},
   "outputs": [
    {
     "name": "stdout",
     "output_type": "stream",
     "text": [
      "Support    0    1    2    3    4\n",
      "G3                              \n",
      "H         6%   5%   0%   5%   4%\n",
      "M        22%  25%  10%  23%  18%\n",
      "L        72%  70%  90%  72%  78%\n"
     ]
    }
   ],
   "source": [
    "print(pd.crosstab(data.G3, data.Support, values = 'age' ,aggfunc ='count', normalize='columns').applymap(lambda x: \"{0:.0f}%\".format(100*x)))"
   ]
  },
  {
   "cell_type": "markdown",
   "metadata": {},
   "source": [
    "### 2.2] Merge into school vs other type"
   ]
  },
  {
   "cell_type": "code",
   "execution_count": null,
   "metadata": {
    "execution": {
     "iopub.execute_input": "2021-04-08T02:18:09.861466Z",
     "iopub.status.busy": "2021-04-08T02:18:09.860498Z",
     "iopub.status.idle": "2021-04-08T02:18:09.864614Z",
     "shell.execute_reply": "2021-04-08T02:18:09.863719Z"
    },
    "papermill": {
     "duration": 0.083654,
     "end_time": "2021-04-08T02:18:09.864790",
     "exception": false,
     "start_time": "2021-04-08T02:18:09.781136",
     "status": "completed"
    },
    "tags": []
   },
   "outputs": [],
   "source": [
    "######## Merge Support types --> school vs non-school Support ###########\n",
    "# For no school support -> 0 ; # For school support -> 1 \n",
    "data.pop('Support')\n",
    "le = LabelEncoder()\n",
    "\n",
    "support = []\n",
    "for i in range(len(data)):\n",
    "    if schoolsup[i] == 1:\n",
    "        support.append(1)\n",
    "    else:\n",
    "        support.append(0) \n",
    "            \n",
    "support = pd.DataFrame({'Support': support}).astype('category')\n",
    "data = pd.concat([data, support], axis = 1)"
   ]
  },
  {
   "cell_type": "code",
   "execution_count": null,
   "metadata": {},
   "outputs": [],
   "source": [
    "print(pd.crosstab(data.G3, data.Support, values = 'age' ,aggfunc ='count', normalize='columns').applymap(lambda x: \"{0:.0f}%\".format(100*x)))"
   ]
  },
  {
   "cell_type": "markdown",
   "metadata": {},
   "source": [
    "### 3) Social Life - Can be computed through the ratio of goout/freetime\n"
   ]
  },
  {
   "cell_type": "code",
   "execution_count": null,
   "metadata": {
    "execution": {
     "iopub.execute_input": "2021-04-08T02:18:10.145341Z",
     "iopub.status.busy": "2021-04-08T02:18:10.144609Z",
     "iopub.status.idle": "2021-04-08T02:18:10.161089Z",
     "shell.execute_reply": "2021-04-08T02:18:10.160408Z"
    },
    "papermill": {
     "duration": 0.077826,
     "end_time": "2021-04-08T02:18:10.161246",
     "exception": false,
     "start_time": "2021-04-08T02:18:10.083420",
     "status": "completed"
    },
    "tags": []
   },
   "outputs": [],
   "source": [
    "########## Socializing Ratio ###########\n",
    "# goout/freetime\n",
    "goout = data.pop('goout').astype(int)\n",
    "freetime = data.pop('freetime').astype(int)\n",
    "social = []\n",
    "for i in range(len(freetime)):\n",
    "    if freetime[i] == 0:\n",
    "        social.append(0)\n",
    "    else:\n",
    "        social.append(goout[i]/freetime[i])\n",
    "        \n",
    "social = pd.DataFrame({'Social': social})\n",
    "data = pd.concat([data, social], axis = 1)"
   ]
  },
  {
   "cell_type": "code",
   "execution_count": null,
   "metadata": {
    "execution": {
     "iopub.execute_input": "2021-04-08T02:18:10.290321Z",
     "iopub.status.busy": "2021-04-08T02:18:10.289200Z",
     "iopub.status.idle": "2021-04-08T02:18:10.293662Z",
     "shell.execute_reply": "2021-04-08T02:18:10.294254Z"
    },
    "papermill": {
     "duration": 0.072043,
     "end_time": "2021-04-08T02:18:10.294412",
     "exception": false,
     "start_time": "2021-04-08T02:18:10.222369",
     "status": "completed"
    },
    "tags": []
   },
   "outputs": [],
   "source": [
    "pd.pivot_table(data, index = 'G3', values = ['Social'])"
   ]
  },
  {
   "cell_type": "markdown",
   "metadata": {},
   "source": [
    "No significant difference"
   ]
  },
  {
   "cell_type": "markdown",
   "metadata": {},
   "source": [
    "\n",
    "### 4) Study - Ratio of studytime/freetime\n"
   ]
  },
  {
   "cell_type": "code",
   "execution_count": null,
   "metadata": {
    "execution": {
     "iopub.execute_input": "2021-04-08T02:18:10.415308Z",
     "iopub.status.busy": "2021-04-08T02:18:10.414526Z",
     "iopub.status.idle": "2021-04-08T02:18:10.425505Z",
     "shell.execute_reply": "2021-04-08T02:18:10.424926Z"
    },
    "papermill": {
     "duration": 0.072387,
     "end_time": "2021-04-08T02:18:10.425642",
     "exception": false,
     "start_time": "2021-04-08T02:18:10.353255",
     "status": "completed"
    },
    "tags": []
   },
   "outputs": [],
   "source": [
    "########## Studying Ratio ###########\n",
    "# studytime/freetime\n",
    "studytime = data.pop('studytime').astype(int)\n",
    "study = []\n",
    "for i in range(len(studytime)):\n",
    "    if freetime[i] == 0:\n",
    "        study.append(0)\n",
    "    else:\n",
    "        study.append(studytime[i]/freetime[i])\n",
    "        \n",
    "study = pd.DataFrame({'Study': study})\n",
    "data = pd.concat([data, study], axis = 1)"
   ]
  },
  {
   "cell_type": "code",
   "execution_count": null,
   "metadata": {
    "execution": {
     "iopub.execute_input": "2021-04-08T02:18:10.550061Z",
     "iopub.status.busy": "2021-04-08T02:18:10.549373Z",
     "iopub.status.idle": "2021-04-08T02:18:10.567793Z",
     "shell.execute_reply": "2021-04-08T02:18:10.567225Z"
    },
    "papermill": {
     "duration": 0.084609,
     "end_time": "2021-04-08T02:18:10.567924",
     "exception": false,
     "start_time": "2021-04-08T02:18:10.483315",
     "status": "completed"
    },
    "tags": []
   },
   "outputs": [],
   "source": [
    "pd.pivot_table(data, index = 'G3', values = ['Study'])"
   ]
  },
  {
   "cell_type": "markdown",
   "metadata": {},
   "source": [
    "On average, higher achieving students spend more of their time studying\n",
    "\n",
    "Relevant because by only looking at studytime, it seems like many of the students are investing very little time. Reality is that out of their free time, they invert more in studying. Ej: social ratio also very high"
   ]
  },
  {
   "cell_type": "markdown",
   "metadata": {},
   "source": [
    "### 5) Repeaters - Those older than 16 with 1 or more failures"
   ]
  },
  {
   "cell_type": "code",
   "execution_count": null,
   "metadata": {
    "execution": {
     "iopub.execute_input": "2021-04-08T02:18:10.704389Z",
     "iopub.status.busy": "2021-04-08T02:18:10.703616Z",
     "iopub.status.idle": "2021-04-08T02:18:10.731558Z",
     "shell.execute_reply": "2021-04-08T02:18:10.730957Z"
    },
    "papermill": {
     "duration": 0.10419,
     "end_time": "2021-04-08T02:18:10.731690",
     "exception": false,
     "start_time": "2021-04-08T02:18:10.627500",
     "status": "completed"
    },
    "tags": []
   },
   "outputs": [],
   "source": [
    "########## Repeaters ###########\n",
    "# if age > 16 and failures > 0\n",
    "age = data.pop('age')\n",
    "failures = data.pop('failures').astype(int)\n",
    "\n",
    "Repeater = []\n",
    "for i in range(len(failures)):\n",
    "    if age[i] > 16 and failures[i] > 0:\n",
    "        Repeater.append(1)\n",
    "    else:\n",
    "        Repeater.append(0)\n",
    "        \n",
    "rep = pd.DataFrame({'Repeater': Repeater}).astype('category')\n",
    "data = pd.concat([data, rep], axis = 1)"
   ]
  },
  {
   "cell_type": "code",
   "execution_count": null,
   "metadata": {
    "execution": {
     "iopub.execute_input": "2021-04-08T02:18:10.859814Z",
     "iopub.status.busy": "2021-04-08T02:18:10.859122Z",
     "iopub.status.idle": "2021-04-08T02:18:10.862694Z",
     "shell.execute_reply": "2021-04-08T02:18:10.862002Z"
    },
    "papermill": {
     "duration": 0.071769,
     "end_time": "2021-04-08T02:18:10.862816",
     "exception": false,
     "start_time": "2021-04-08T02:18:10.791047",
     "status": "completed"
    },
    "tags": []
   },
   "outputs": [],
   "source": [
    "print(pd.crosstab(data.G3, data.Repeater, values = 'age' ,aggfunc ='count', normalize='columns').applymap(lambda x: \"{0:.0f}%\".format(100*x)))"
   ]
  },
  {
   "cell_type": "markdown",
   "metadata": {},
   "source": [
    "### 6) Guardian - Into parent or other (no difference between mother and father)"
   ]
  },
  {
   "cell_type": "code",
   "execution_count": null,
   "metadata": {},
   "outputs": [],
   "source": [
    "guardian = data.pop('guardian')\n",
    "Guardian = [i if i == 'other' else 'parent' for i in guardian]\n",
    "guard = pd.DataFrame({'Guardian': Guardian}).astype('category')\n",
    "data = pd.concat([data, guard], axis = 1)"
   ]
  },
  {
   "cell_type": "code",
   "execution_count": null,
   "metadata": {},
   "outputs": [],
   "source": [
    "print(pd.crosstab(data.G3, data.Guardian, values = 'age' ,aggfunc ='count', normalize='columns').applymap(lambda x: \"{0:.0f}%\".format(100*x)))"
   ]
  },
  {
   "cell_type": "markdown",
   "metadata": {},
   "source": [
    "### 7) Fteacher - It looks like if father is a teacher, student achieves better"
   ]
  },
  {
   "cell_type": "code",
   "execution_count": 115,
   "metadata": {},
   "outputs": [],
   "source": [
    "data.Fjob = data.Fjob.astype('object')"
   ]
  },
  {
   "cell_type": "code",
   "execution_count": 116,
   "metadata": {},
   "outputs": [
    {
     "data": {
      "text/plain": [
       "<AxesSubplot:xlabel='G3', ylabel='Father Job'>"
      ]
     },
     "execution_count": 116,
     "metadata": {},
     "output_type": "execute_result"
    },
    {
     "data": {
      "image/png": "[encoded data removed]",
      "text/plain": [
       "<Figure size 432x288 with 1 Axes>"
      ]
     },
     "metadata": {
      "needs_background": "light"
     },
     "output_type": "display_data"
    }
   ],
   "source": [
    "x = 'G3'\n",
    "y = 'Fjob'\n",
    "(data.groupby(x)[y].value_counts(normalize=True).mul(100).rename('Father Job',).reset_index()\n",
    " .pipe((sns.barplot,'data'), x=x,y='Father Job',hue=y, order = ['L', 'M', 'H']))"
   ]
  },
  {
   "cell_type": "code",
   "execution_count": null,
   "metadata": {},
   "outputs": [],
   "source": [
    "fjob = data.pop('Fjob')\n",
    "Fjob = [i if i == 'teacher' else 'other' for i in fjob]\n",
    "job = pd.DataFrame({'Fjob': Fjob}).astype('category')\n",
    "data = pd.concat([data, job], axis = 1)"
   ]
  },
  {
   "cell_type": "code",
   "execution_count": null,
   "metadata": {},
   "outputs": [],
   "source": [
    "print(pd.crosstab(data.G3, data.Fjob, values = 'age' ,aggfunc ='count', normalize='columns').applymap(lambda x: \"{0:.0f}%\".format(100*x)))"
   ]
  },
  {
   "cell_type": "markdown",
   "metadata": {},
   "source": [
    "# Analyzing New Data"
   ]
  },
  {
   "cell_type": "markdown",
   "metadata": {},
   "source": [
    "We also take note of some of the comments from the previous exploration:\n",
    "* famsize, famsup, paid, activities, nursery is very equal distrib, we can ignore\n",
    "\n",
    "Therefore, we will delete these variables from the new dataset (they don´t bring new info)"
   ]
  },
  {
   "cell_type": "code",
   "execution_count": null,
   "metadata": {},
   "outputs": [],
   "source": [
    "data.pop('famsize') ; data.pop('activities') ; data.pop('nursery')\n",
    "\n",
    "G3 = data.pop('G3')\n",
    "data = pd.concat([G3, data], axis = 1)\n",
    "\n",
    "#quick way to separate numeric columns\n",
    "numeric = list(data.describe().columns)\n",
    "print('Numeric: ', numeric)\n",
    "\n",
    "tot_cols = list(data.columns)\n",
    "categorical = [i for i in tot_cols if i not in numeric]\n",
    "print('Categorical: ',categorical)\n",
    "\n",
    "data_num = data[numeric]\n",
    "data_cat = data[categorical].astype(\"category\")"
   ]
  },
  {
   "cell_type": "markdown",
   "metadata": {},
   "source": [
    "## *Numeric Data*"
   ]
  },
  {
   "cell_type": "code",
   "execution_count": null,
   "metadata": {},
   "outputs": [],
   "source": [
    "#distributions for all numeric variables \n",
    "for i in data_num.columns:\n",
    "    plt.hist(data_num[i])\n",
    "    plt.title(i)\n",
    "    plt.show()"
   ]
  },
  {
   "cell_type": "markdown",
   "metadata": {},
   "source": [
    "Could use some feature normalization on some of the attributes"
   ]
  },
  {
   "cell_type": "code",
   "execution_count": null,
   "metadata": {},
   "outputs": [],
   "source": [
    "corr = data_num.corr()\n",
    "corr.style.background_gradient(cmap='YlOrRd')"
   ]
  },
  {
   "cell_type": "markdown",
   "metadata": {},
   "source": [
    "**Positive correlations**\n",
    "* Alcohol and absences\n",
    "* Social and Alcohol\n",
    "* Study and Social\n",
    "\n",
    "**Negative correlations**\n",
    "* Alcohol and Study"
   ]
  },
  {
   "cell_type": "code",
   "execution_count": null,
   "metadata": {},
   "outputs": [],
   "source": [
    "# compare G3 across absences, Alcohol,Social and Study\n",
    "pd.pivot_table(data, index = 'G3', values = ['absences', 'Alcohol','Social','Study'], sort = True)"
   ]
  },
  {
   "cell_type": "markdown",
   "metadata": {},
   "source": [
    "* Lower achieving students have higher alcohol consumption\n",
    "* High achieving students have higher Study scores"
   ]
  },
  {
   "cell_type": "markdown",
   "metadata": {},
   "source": [
    "## *Categorical Data*"
   ]
  },
  {
   "cell_type": "code",
   "execution_count": null,
   "metadata": {},
   "outputs": [],
   "source": [
    "# Comparing G3 and each of these categorical variables \n",
    "for i in data_cat.columns:\n",
    "    if i != 'G3':\n",
    "        print(pd.crosstab(data.G3, data[i], values = 'age' ,aggfunc ='count', normalize='columns').applymap(lambda x: \"{0:.0f}%\".format(100*x)))\n",
    "        print()"
   ]
  },
  {
   "cell_type": "markdown",
   "metadata": {},
   "source": [
    "Now categorical features look more relevant. We are ready to start modelling.\n",
    "\n",
    "\n",
    "**For scikit, numeric data is preferred, so we will change the dtype of our variables**"
   ]
  },
  {
   "cell_type": "code",
   "execution_count": null,
   "metadata": {},
   "outputs": [],
   "source": [
    "#We first separate those columns which are binned, and convert them to numeric\n",
    "data_cat_num = ['Medu', 'Fedu','traveltime', 'famrel', 'health', 'Support', 'Repeater']\n",
    "for i in (data_cat_num):\n",
    "    data[i] = data[i].astype('int')\n",
    "\n",
    "data_cad_codes = [i for i in data_cat.columns if i not in data_cat_num]\n",
    "for i in data_cad_codes:\n",
    "    data[i] = data[i].cat.codes\n",
    "    \n",
    "# data.info()    \n",
    "data.to_csv('modelling_KJ_EDA.csv')"
   ]
  }
 ],
 "metadata": {
  "kernelspec": {
   "display_name": "Python 3 (ipykernel)",
   "language": "python",
   "name": "python3"
  },
  "language_info": {
   "codemirror_mode": {
    "name": "ipython",
    "version": 3
   },
   "file_extension": ".py",
   "mimetype": "text/x-python",
   "name": "python",
   "nbconvert_exporter": "python",
   "pygments_lexer": "ipython3",
   "version": "3.7.11"
  },
  "papermill": {
   "duration": 1508.291842,
   "end_time": "2021-04-08T02:42:50.599747",
   "environment_variables": {},
   "exception": null,
   "input_path": "__notebook__.ipynb",
   "output_path": "__notebook__.ipynb",
   "parameters": {},
   "start_time": "2021-04-08T02:17:42.307905",
   "version": "2.1.0"
  }
 },
 "nbformat": 4,
 "nbformat_minor": 4
}
